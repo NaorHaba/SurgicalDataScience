{
 "cells": [
  {
   "cell_type": "code",
   "execution_count": null,
   "metadata": {
    "collapsed": true
   },
   "outputs": [],
   "source": [
    "import pandas as pd\n",
    "final_res = pd.DataFrame(columns=['split','epoch','acc','edit','F1-macro','F1@10','F1@25','F1@50'])\n",
    "final_res = final_res.append({'split':0,'acc':85.342,'edit':92.592,'F1-macro':83.43,'F1@10':94.415,'F1@25':91.359,'F1@50':76.607}, ignore_index=True)\n",
    "final_res =  final_res.append({'split':1,'acc':86.834,'edit':93.783,'F1-macro':83.31,'F1@10':94.652,'F1@25':92.086,'F1@50':82.674}, ignore_index=True)\n",
    "final_res = final_res.append({'split':2,'acc':83.81,'edit':84.971,'F1-macro':81.10,'F1@10':88.912,'F1@25':86.81,'F1@50':76.721}, ignore_index=True)\n",
    "final_res =final_res.append({'split':3,'acc':83.235,'edit':89.668,'F1-macro':79.14,'F1@10':89.938,'F1@25':82.884,'F1@50':64.108}, ignore_index=True)\n",
    "final_res =final_res.append({'split':4,'acc':87.312,'edit':94.109,'F1-macro':83.01,'F1@10':93.948,'F1@25':90.922,'F1@50':77.304}, ignore_index=True)\n",
    "final_res.describe().apply(lambda x: round(x,2))"
   ]
  }
 ],
 "metadata": {
  "kernelspec": {
   "display_name": "Python 3",
   "language": "python",
   "name": "python3"
  },
  "language_info": {
   "codemirror_mode": {
    "name": "ipython",
    "version": 2
   },
   "file_extension": ".py",
   "mimetype": "text/x-python",
   "name": "python",
   "nbconvert_exporter": "python",
   "pygments_lexer": "ipython2",
   "version": "2.7.6"
  }
 },
 "nbformat": 4,
 "nbformat_minor": 0
}